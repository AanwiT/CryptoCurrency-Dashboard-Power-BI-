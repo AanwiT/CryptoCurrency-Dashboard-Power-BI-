{
 "cells": [
  {
   "cell_type": "code",
   "execution_count": 45,
   "id": "636d80df-0783-47c0-b7d0-597530b00178",
   "metadata": {},
   "outputs": [
    {
     "name": "stdout",
     "output_type": "stream",
     "text": [
      "\n",
      "🔄 Fetching OHLC data for BTC...\n",
      "✅ Success for BTC, rows: 48\n",
      "\n",
      "🔄 Fetching OHLC data for ETH...\n",
      "✅ Success for ETH, rows: 48\n",
      "\n",
      "🔄 Fetching OHLC data for XRP...\n",
      "✅ Success for XRP, rows: 48\n",
      "\n",
      "🔄 Fetching OHLC data for ADA...\n",
      "✅ Success for ADA, rows: 48\n",
      "\n",
      "🔄 Fetching OHLC data for DOGE...\n",
      "✅ Success for DOGE, rows: 48\n",
      "\n",
      "✅ Data saved to 'crypto_1day_hourly_ohlc_coingecko.csv'\n"
     ]
    }
   ],
   "source": [
    "import requests\n",
    "import pandas as pd\n",
    "import time\n",
    "from datetime import datetime\n",
    "\n",
    "# CoinGecko-compatible coin IDs\n",
    "coin_id_map = {\n",
    "    'BTC': 'bitcoin',\n",
    "    'ETH': 'ethereum',\n",
    "    'XRP': 'ripple',\n",
    "    'ADA': 'cardano',\n",
    "    'DOGE': 'dogecoin'\n",
    "}\n",
    "\n",
    "all_data = []\n",
    "\n",
    "for symbol, coin_id in coin_id_map.items():\n",
    "    print(f\"\\n🔄 Fetching OHLC data for {symbol}...\")\n",
    "\n",
    "    url = f\"https://api.coingecko.com/api/v3/coins/{coin_id}/ohlc?vs_currency=usd&days=1\"\n",
    "    \n",
    "    try:\n",
    "        response = requests.get(url)\n",
    "        if response.status_code == 200:\n",
    "            raw_data = response.json()\n",
    "            df = pd.DataFrame(raw_data, columns=['Time', 'Open', 'High', 'Low', 'Close'])\n",
    "\n",
    "            # Convert timestamp to readable time\n",
    "            df['Time'] = pd.to_datetime(df['Time'], unit='ms')\n",
    "            df['Symbol'] = symbol\n",
    "            df['Coin Name'] = coin_id.capitalize()\n",
    "\n",
    "            df_final = df[['Coin Name', 'Open', 'Close', 'High', 'Low', 'Symbol', 'Time']]\n",
    "            all_data.append(df_final)\n",
    "            print(f\"✅ Success for {symbol}, rows: {len(df_final)}\")\n",
    "\n",
    "        else:\n",
    "            print(f\"❌ Failed for {symbol}: {response.status_code}\")\n",
    "    except Exception as e:\n",
    "        print(f\"❌ Error for {symbol}: {e}\")\n",
    "\n",
    "    time.sleep(10)  # prevent rate limiting\n",
    "\n",
    "# Combine and export\n",
    "if all_data:\n",
    "    combined_df = pd.concat(all_data, ignore_index=True)\n",
    "    combined_df.to_csv(\"crypto_1day_hourly_ohlc_coingecko.csv\", index=False)\n",
    "    print(\"\\n✅ Data saved to 'crypto_1day_hourly_ohlc_coingecko.csv'\")\n",
    "else:\n",
    "    print(\"\\n⚠️ No data was fetched.\")"
   ]
  },
  {
   "cell_type": "code",
   "execution_count": null,
   "id": "a49e8d6b-240f-47ca-9319-d3bb58d2dbe5",
   "metadata": {},
   "outputs": [],
   "source": []
  }
 ],
 "metadata": {
  "kernelspec": {
   "display_name": "Python [conda env:base] *",
   "language": "python",
   "name": "conda-base-py"
  },
  "language_info": {
   "codemirror_mode": {
    "name": "ipython",
    "version": 3
   },
   "file_extension": ".py",
   "mimetype": "text/x-python",
   "name": "python",
   "nbconvert_exporter": "python",
   "pygments_lexer": "ipython3",
   "version": "3.12.7"
  }
 },
 "nbformat": 4,
 "nbformat_minor": 5
}
